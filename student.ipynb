{
 "cells": [
  {
   "cell_type": "markdown",
   "metadata": {},
   "source": [
    "# SQL & Visualization Practice"
   ]
  },
  {
   "cell_type": "markdown",
   "metadata": {},
   "source": [
    "- Assignment start date: 05/15/20\n",
    "- Assignment due date: 05/19/20\n",
    "\n",
    "- onl01-dtsc-pt-041320\n"
   ]
  },
  {
   "cell_type": "markdown",
   "metadata": {},
   "source": [
    "## Student Info\n",
    "\n",
    "- Student Name: \n",
    "- Partner Name (if applicable): \n",
    "\n"
   ]
  },
  {
   "cell_type": "markdown",
   "metadata": {},
   "source": [
    "# Instructions:"
   ]
  },
  {
   "cell_type": "markdown",
   "metadata": {},
   "source": [
    "> - **Your task is to create visualizations to help answer a few question that Northwind, Inc has about its customer's purchasing behaviors.** \n",
    "- Each visualization should have a 1-2 sentence explanation about your findings.\n",
    "\n",
    "   \n",
    "- **You must select the most appropriate visuals to help answer your question. Options include (but are not limited to):**\n",
    "    - Scatter plots (color coded by group)\n",
    "    - Bar plots of group means\n",
    "    - Boxplots\n",
    "    - Seaborn barplots, violinplots\n",
    "    - etc.\n",
    "    \n",
    "\n",
    "\n",
    "\n",
    "\n",
    "       \n",
    "    \n",
    "\n",
    "\n",
    "\n",
    "\n",
    "- **Read the Visualization Requirements section for additional instructions.**\n",
    "\n"
   ]
  },
  {
   "cell_type": "markdown",
   "metadata": {},
   "source": [
    "## Questions"
   ]
  },
  {
   "cell_type": "markdown",
   "metadata": {},
   "source": [
    "> Question 1: \n",
    " - Does being discounted amount have an effect on the quantity of a product in an order (binary comparison, discount/no discount)? \n",
    " - If so, at what level(s) of discount (multiple-group comparison)?\n",
    " \n",
    "> Question 2: \n",
    " - Does the time of year total Quantities sold? (The time period analyzed is up to you: month,quarter, etc.) \n",
    "\n",
    "> Question 3 (Optional):\n",
    "- Think of one additional question  that you can answer to give Northwind some helpul business insights."
   ]
  },
  {
   "cell_type": "markdown",
   "metadata": {},
   "source": [
    "## Visualization Requirements"
   ]
  },
  {
   "cell_type": "markdown",
   "metadata": {},
   "source": [
    "- **All visualizations (all `fig` objects) should be stored in one dictionary, called `figures` so that they can be displayed together in one final summary cell.**\n",
    "\n",
    "```python\n",
    "for question, fig in figures.items():\n",
    "    print(f\"\\n\\n{question}\")\n",
    "    display(fig)\n",
    "    \n",
    "```\n",
    "- **You must create figures using at least 2 out fo the following ways/approaches to making/starting a figure:**\n",
    "    1. Use `fig,ax=plt.subplots` to start the figure and then use `ax` to do all of your plotting (e.g. `ax.bar`, `ax.scatter`)\n",
    "    2. Start a figure with Pandas and then update the axis labels and title outside using the `ax` object that pandas returns combined with `ax.set_` methods.\n",
    "    3. A Seaborn visualization that takes a whole dataframe and column names to plot(e.g. `sns.barplot(data=df,x='Discount',y=\"Quantity\")`\n",
    "    4. Use `plt` functions to create a plot and then `plt.gca()` and `plt.gcf()` to get the fig objects.\n",
    "    \n",
    "    \n",
    "- **All visualizations are well labeled with:**\n",
    "    - axes labels\n",
    "    - a title\n",
    "    - and a legend (when appropriate)\n",
    "    \n",
    " "
   ]
  },
  {
   "cell_type": "markdown",
   "metadata": {},
   "source": [
    "#### Visualization Tips\n",
    "- Don't forget about our Master Cheat Sheets (all green sheets are plotting-related). \n",
    "    - https://drive.google.com/file/d/1PxRAhlaK7ucf0S2F732eJ94ovaPtUSE_/view?usp=sharing\n",
    "    \n",
    "    \n",
    "- Remember that Pandas outputs an `ax` object whenever you use the `df.plot()` method (and most seaborn plots do too).\n",
    "    - Axes have a `ax.get_figure()` method to get the Figure that goes with an Axes.\n",
    "    \n",
    "    \n",
    "- Remember the 2 special `plt` functions that let us grab the figures and axes we create.\n",
    "    - `plt.gca()` - get current axis\n",
    "    - `plt.gcf()` - get current figure\n",
    " \n",
    " \n",
    "- Seaborn and pandas both have options for separating your data for you using groups/color. \n",
    "    - Some seaborn functions accept a `hue` argument the name of the column to use to color the groups. (`hue='country'`)\n",
    "    - Some pandas plots accept a similar `c` argument (`c=\"Discounted\"`)\n",
    "    \n",
    "    "
   ]
  },
  {
   "cell_type": "markdown",
   "metadata": {},
   "source": [
    "# SQL Tips/Resources"
   ]
  },
  {
   "cell_type": "markdown",
   "metadata": {},
   "source": [
    "\n",
    "- The data tables are stored in the `Northwind_small.sqlite` file. \n",
    "    - Question 1 uses one table (orderDetail).\n",
    "    - Questions 2+3 require a join. \n",
    "    "
   ]
  },
  {
   "cell_type": "markdown",
   "metadata": {},
   "source": [
    "### Some SQL tips/reminders"
   ]
  },
  {
   "cell_type": "markdown",
   "metadata": {},
   "source": [
    "- **To see all tables in a database:**\n",
    "```python\n",
    "\"\"\"SELECT name FROM sqlite_master WHERE type='table';\"\"\"\n",
    "```\n",
    "\n",
    "- **To see the information on a table:**\n",
    "```python\n",
    "\"\"\"PRAGMA table_info(orderDetail)\"\"\"\n",
    "```\n",
    "\n",
    "    - For more information on Pragma commands: \n",
    "        - https://www.sqlite.org/pragma.html\n",
    "        \n",
    "        \n",
    "        \n",
    "- **Reminder: if a table's name is also a SQL keyword you will have to put quotation marks around the table's name.**"
   ]
  },
  {
   "cell_type": "markdown",
   "metadata": {},
   "source": [
    "<img src=\"https://raw.githubusercontent.com/jirvingphd/dsc-mod-3-project-online-ds-ft-100719/master/Northwind_ERD_updated.png\">"
   ]
  },
  {
   "cell_type": "markdown",
   "metadata": {},
   "source": [
    "# Your Work Here"
   ]
  },
  {
   "cell_type": "code",
   "execution_count": null,
   "metadata": {},
   "outputs": [],
   "source": [
    "import os\n",
    "os.listdir()"
   ]
  },
  {
   "cell_type": "code",
   "execution_count": null,
   "metadata": {},
   "outputs": [],
   "source": [
    "## Import matplotlib, pandas, sqlite3, seaborn\n"
   ]
  },
  {
   "cell_type": "code",
   "execution_count": null,
   "metadata": {},
   "outputs": [],
   "source": [
    "## Connect to database with sqlite3"
   ]
  },
  {
   "cell_type": "code",
   "execution_count": null,
   "metadata": {},
   "outputs": [],
   "source": [
    "## Create the empty figures dictionary for later\n",
    "figures ={}"
   ]
  },
  {
   "cell_type": "markdown",
   "metadata": {},
   "source": [
    "## Question 1"
   ]
  },
  {
   "cell_type": "markdown",
   "metadata": {},
   "source": [
    "### Your Work:\n",
    "- insert as many cells as you need to/would like\n",
    "- Save the final visual's `Figure` (fig) into the figure dictionary. "
   ]
  },
  {
   "cell_type": "code",
   "execution_count": null,
   "metadata": {},
   "outputs": [],
   "source": []
  },
  {
   "cell_type": "markdown",
   "metadata": {},
   "source": [
    "### Your Findings/Summary\n",
    "- 1-2 sentence summary of findings\n",
    "\n",
    "> ..."
   ]
  },
  {
   "cell_type": "markdown",
   "metadata": {},
   "source": [
    "## Question 2"
   ]
  },
  {
   "cell_type": "markdown",
   "metadata": {},
   "source": [
    "### Your Work:\n",
    "- insert as many cells as you need to/would like\n",
    "- Save the final visual's `Figure` (fig) into the figure dictionary. "
   ]
  },
  {
   "cell_type": "code",
   "execution_count": null,
   "metadata": {},
   "outputs": [],
   "source": []
  },
  {
   "cell_type": "markdown",
   "metadata": {},
   "source": [
    "### Your Findings/Summary\n",
    "- 1-2 sentence summary of findings\n",
    "\n",
    "> ..."
   ]
  },
  {
   "cell_type": "markdown",
   "metadata": {},
   "source": [
    "## Question 3 (optional)"
   ]
  },
  {
   "cell_type": "markdown",
   "metadata": {},
   "source": [
    "### Your Work:\n",
    "- insert as many cells as you need to/would like\n",
    "- Save the final visual's `Figure` (fig) into the figure dictionary. "
   ]
  },
  {
   "cell_type": "code",
   "execution_count": null,
   "metadata": {},
   "outputs": [],
   "source": []
  },
  {
   "cell_type": "markdown",
   "metadata": {},
   "source": [
    "### Your Findings/Summary\n",
    "- 1-2 sentence summary of findings\n",
    "\n",
    "> ..."
   ]
  },
  {
   "cell_type": "markdown",
   "metadata": {},
   "source": [
    "# Final Printout of All Figures"
   ]
  },
  {
   "cell_type": "code",
   "execution_count": null,
   "metadata": {},
   "outputs": [],
   "source": [
    "for question, fig in figures.items():\n",
    "    print(f\"\\n\\n{question}\")\n",
    "    display(fig)"
   ]
  }
 ],
 "metadata": {
  "kernelspec": {
   "display_name": "learn-env",
   "language": "python",
   "name": "learn-env"
  },
  "language_info": {
   "codemirror_mode": {
    "name": "ipython",
    "version": 3
   },
   "file_extension": ".py",
   "mimetype": "text/x-python",
   "name": "python",
   "nbconvert_exporter": "python",
   "pygments_lexer": "ipython3",
   "version": "3.6.9"
  },
  "toc": {
   "base_numbering": 1,
   "nav_menu": {},
   "number_sections": false,
   "sideBar": true,
   "skip_h1_title": false,
   "title_cell": "Table of Contents",
   "title_sidebar": "Contents",
   "toc_cell": false,
   "toc_position": {
    "height": "calc(100% - 180px)",
    "left": "10px",
    "top": "150px",
    "width": "165px"
   },
   "toc_section_display": true,
   "toc_window_display": true
  },
  "varInspector": {
   "cols": {
    "lenName": 16,
    "lenType": 16,
    "lenVar": 40
   },
   "kernels_config": {
    "python": {
     "delete_cmd_postfix": "",
     "delete_cmd_prefix": "del ",
     "library": "var_list.py",
     "varRefreshCmd": "print(var_dic_list())"
    },
    "r": {
     "delete_cmd_postfix": ") ",
     "delete_cmd_prefix": "rm(",
     "library": "var_list.r",
     "varRefreshCmd": "cat(var_dic_list()) "
    }
   },
   "types_to_exclude": [
    "module",
    "function",
    "builtin_function_or_method",
    "instance",
    "_Feature"
   ],
   "window_display": false
  }
 },
 "nbformat": 4,
 "nbformat_minor": 2
}
